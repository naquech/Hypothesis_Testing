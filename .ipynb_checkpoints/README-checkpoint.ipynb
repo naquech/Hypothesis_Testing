{
 "cells": [
  {
   "cell_type": "markdown",
   "metadata": {},
   "source": [
    "# Northwind Traders Statistical Analysis\n",
    "### Advance Data Retrieval and Analysis\n",
    "\n",
    "\n",
    "<p>The goal of this project is to test the ability to gather information from a real-world databse and use statistical analysis and hypothesis testing to generate analytical insights.</p>\n",
    "<p>The data used for this project is sourced from Microsoft's fictional company Northwind Traders. An sqlite-compatible file has been provided and it's included in the folder along with the notebooks. The project requirements can be found in the index.ipynb file.</p>\n",
    "\n",
    "### Analysis of hypothesis 1\n",
    "Do discounts have a statistically significant effect on the number of products customers order? If so, at what level(s) of discount?\n",
    "\n",
    "    * $H_o$: discounts do not have an effect on the number of products ordered. $\\mu_1 =\\mu_2$\n",
    "    * $Ha$: discounts have an effect in the number of products ordered. $\\mu_1 \\neq \\mu_2$\n",
    "\n",
    "Table needed: Order (attributes: orderid, quantity, discount)<br>\n",
    "<img src=\"Images/vars_h1.png\">\n",
    "\n",
    "Descriptive Statistics: <br>\n",
    "<img src=\"Images/descriptiveStats.png\">\n",
    "\n",
    "<br>\n",
    "Two tail T-Test:"
   ]
  },
  {
   "cell_type": "raw",
   "metadata": {},
   "source": [
    "Ttest_indResult(statistic=-6.239069142123973, pvalue=5.65641429030433e-10)"
   ]
  },
  {
   "cell_type": "markdown",
   "metadata": {},
   "source": [
    "##### Interpretation:\n",
    "The null hypothesis is rejected. Discounts do have an effect on the number of products ordered by clients."
   ]
  },
  {
   "cell_type": "markdown",
   "metadata": {},
   "source": [
    "2. How sales compare across the different regions.\n",
    "3. How sales by employees compare among themselves.\n",
    "4. Do discounts affect re-orders?"
   ]
  },
  {
   "cell_type": "markdown",
   "metadata": {},
   "source": [
    "### Analysis of hypothesis 2\n",
    "How sales and revenue compare across the regions?\n",
    "\n",
    "* $H_o$: the average sales in all regions are equal . $\\mu_1 = \\mu_2$\n",
    "* $Ha$: the average sales in all regions are not equal  $\\mu_1 \\neq \\mu_2$\n",
    "<br>\n",
    "Variables needed: <br>\n",
    "<img src=\"Images/descriptiveStats.png\">\n",
    "\n",
    "<br>"
   ]
  },
  {
   "cell_type": "raw",
   "metadata": {},
   "source": [
    "Variance:\n",
    "TotalSum: 63293156.85691343\n",
    "Sales: 6458.172839506174"
   ]
  },
  {
   "cell_type": "raw",
   "metadata": {},
   "source": [
    "Two Tail T-Test\n",
    "Ttest_indResult(statistic=2.5324795599914967, pvalue=0.03511398310242245)"
   ]
  },
  {
   "cell_type": "markdown",
   "metadata": {},
   "source": [
    "The null hypothesis is rejected, this confirms that the average sales are not equal in all regions. Further analysis can be to check what regions have a high sales value. This can be done with a Tukey test to get a comparison of all regions."
   ]
  },
  {
   "cell_type": "markdown",
   "metadata": {},
   "source": [
    "### Analysis of hypothesis 3\n",
    "\n",
    "How employee sales compare among themselves?\n",
    "\n",
    "* $H_o$: sales revenue/sale by employees on average are the same value $\\mu_1 =\\mu_2$\n",
    "* $Ha$: there is an employee that generates more revenue/sale than the average $\\mu_1 >=\\mu_2$\n",
    "\n",
    "<img src='Images/vars_h3.png'> <br>\n",
    "\n",
    "####  Test: ANOVA\n",
    "Assumptions to be satisfied in order for the associated p-value to be valid.\n",
    "\n",
    "    The samples are independent.\n",
    "    Each sample is from a normally distributed population.\n",
    "    The population standard deviations of the groups are all equal (homoscedasticity)\n",
    "\n",
    "The assumption of homoscedasticity does not hold in this case, so we use the Kruskal-Wallis H-test which tests the null hypothesis that the population median of all of the groups are equal. It is a non-parametric version of ANOVA.\n"
   ]
  },
  {
   "cell_type": "raw",
   "metadata": {},
   "source": [
    "#The Kruskal Wallis test is the non parametric alternative to the One Way ANOVA. \n",
    "#It determines whether the medians of two or more groups are different\n",
    "\n",
    "stats.kruskal(x,y)\n",
    "KruskalResult(statistic=12.78947368421052, pvalue=0.0003485751742130545)"
   ]
  },
  {
   "cell_type": "markdown",
   "metadata": {},
   "source": [
    "The p-value is much lower than the statistic value; hence the null hypothesis is rejected. We proceed to confirm this with Tukey test and if true we'll find out which employee is selling more (which specific means are different).\n",
    "\n",
    "<img src='Images/tukeyTest.png'><br>\n",
    "\n",
    "There is a difference in the average sales per employee but there is no statistical difference between them, hence the null hypothesis is not rejected, and there is not significant evidence to support the alternate hypothesis."
   ]
  },
  {
   "cell_type": "markdown",
   "metadata": {},
   "source": [
    "### Analysis of hypothesis 4\n",
    "Do discounts affect reorders?\n",
    "\n",
    "* $H_o$: discounts have an effect on reorders $\\mu_1 =\\mu_2$\n",
    "* $Ha$: discounts do not have an effect in reorders $\\mu_1 \\neq \\mu_2$\n",
    "\n",
    "<br><img src='Images/vars_h4.png'><br>\n",
    "\n",
    "Two Tail T-Test:"
   ]
  },
  {
   "cell_type": "raw",
   "metadata": {},
   "source": [
    "Ttest_indResult(statistic=-0.23641044437129016, pvalue=0.8131411415021936)"
   ]
  },
  {
   "cell_type": "markdown",
   "metadata": {},
   "source": [
    "The p-value in this case is greater than the significance level, so the null hypothesis is not rejected.\n",
    "\n",
    "## Summary\n",
    "\n",
    "1. Do discounts have a statistically significant effect on the number of products customers order? \n",
    "    * $H_o$: discounts do not have an effect on the number of products ordered. $\\mu_1 =\\mu_2$\n",
    "    * $Ha$: discounts have an effect in the number of products ordered. $\\mu_1 \\neq \\mu_2$\n",
    "<p>The null hypothesis is rejected. Discounts do to have a stistically siginificant effect on the number of products ordered by clients.</p><br>\n",
    "\n",
    "2. How sales and revenue compare across the regions. \n",
    "    * $H_o$: the average sales in all regions are equal . $\\mu_1 = \\mu_2$\n",
    "    * $Ha$: the average sales in all regions are not equal  $\\mu_1 \\neq \\mu_2$\n",
    "<p>The null hypothesis is rejected, this confirms that the average sales are not equal in all regions. Further analysis can be to check what regions have a high sales value. This can be done with a Tukey test to get a comparison of all regions. </p><br>\n",
    "\n",
    "3. How employee sales compare among themselves\n",
    "    * $H_o$: sales revenue by employees on average are the same value $\\mu_1 =\\mu_2$\n",
    "    * $Ha$: there is an employee that generates more revenue than the average $\\mu_1 >=\\mu_2$\n",
    "<p>There is a difference in the average sales per employee but there is no statistical difference between them, hence the null hypothesis is not rejected, and there is not significant evidence to support the alternate hypothesis.</p><br> \n",
    "\n",
    "4. Do discounts affect reorders?\n",
    "    * $H_o$: discounts have an effect on reorders $\\mu_1 =\\mu_2$\n",
    "    * $Ha$: discounts do not have an effect in reorders $\\mu_1 \\neq \\mu_2$\n",
    "<p>The alternate hypothesis that discounts do not have an effect in reorders is weak, so the null hypothesis can not be rejected.</p>"
   ]
  },
  {
   "cell_type": "code",
   "execution_count": null,
   "metadata": {},
   "outputs": [],
   "source": []
  }
 ],
 "metadata": {
  "kernelspec": {
   "display_name": "Python 3",
   "language": "python",
   "name": "python3"
  },
  "language_info": {
   "codemirror_mode": {
    "name": "ipython",
    "version": 3
   },
   "file_extension": ".py",
   "mimetype": "text/x-python",
   "name": "python",
   "nbconvert_exporter": "python",
   "pygments_lexer": "ipython3",
   "version": "3.7.2"
  }
 },
 "nbformat": 4,
 "nbformat_minor": 2
}
